{
 "cells": [
  {
   "cell_type": "code",
   "execution_count": 1,
   "id": "06c4491b",
   "metadata": {},
   "outputs": [],
   "source": [
    "import os\n",
    "import numpy as np\n",
    "import zipfile\n",
    "import io\n",
    "import inspect\n",
    "import cv2\n",
    "\n",
    "from openvino.inference_engine import IECore\n",
    "from openvino.runtime import Core"
   ]
  },
  {
   "cell_type": "code",
   "execution_count": 2,
   "id": "87c6cde8",
   "metadata": {},
   "outputs": [],
   "source": [
    "core = Core()"
   ]
  },
  {
   "cell_type": "code",
   "execution_count": 3,
   "id": "b2dc5ddf",
   "metadata": {},
   "outputs": [
    {
     "name": "stdout",
     "output_type": "stream",
     "text": [
      "CPU:        Intel(R) Core(TM) i5-2410M CPU @ 2.30GHz\n"
     ]
    }
   ],
   "source": [
    "devices = core.available_devices\n",
    "\n",
    "for device in devices:\n",
    "    device_name = core.get_property(device, \"FULL_DEVICE_NAME\")\n",
    "    print(f\"{device}: {device_name}\")"
   ]
  },
  {
   "cell_type": "code",
   "execution_count": 4,
   "id": "171eca5a",
   "metadata": {},
   "outputs": [],
   "source": [
    "classification_model_xml = 'image-retrieval-0001/FP32/image-retrieval-0001.xml'\n",
    "\n",
    "model = core.read_model(model=classification_model_xml)\n",
    "compiled_model = core.compile_model(model=model, device_name=\"CPU\")"
   ]
  },
  {
   "cell_type": "code",
   "execution_count": 5,
   "id": "8c7c8692",
   "metadata": {},
   "outputs": [],
   "source": [
    "input_layer = compiled_model.input(0)\n",
    "output_layer = compiled_model.output(0)"
   ]
  },
  {
   "cell_type": "code",
   "execution_count": 6,
   "id": "a674b93f",
   "metadata": {},
   "outputs": [
    {
     "name": "stdout",
     "output_type": "stream",
     "text": [
      "input precision: <Type: 'float32'>\n",
      "input shape: [1,224,224,3]\n"
     ]
    }
   ],
   "source": [
    "print(f\"input precision: {input_layer.element_type}\")\n",
    "print(f\"input shape: {input_layer.shape}\")"
   ]
  },
  {
   "cell_type": "code",
   "execution_count": 7,
   "id": "1d1d8e67",
   "metadata": {},
   "outputs": [],
   "source": [
    "def preprocess_image(image_path, h, w):\n",
    "    image = cv2.imread(image_path)\n",
    "    image = cv2.resize(image, (w, h))\n",
    "    image = cv2.cvtColor(image, cv2.COLOR_BGR2RGB)\n",
    "    image = image.astype(np.float32)  # Convert to float32\n",
    "#     image = image.transpose((2, 0, 1))  # Interchange dimensions to [1, 3, 224, 224]\n",
    "    image = np.array(image)\n",
    "    blob = np.expand_dims(image, axis=0)  # Add batch dimension\n",
    "    print(blob.shape)\n",
    "    return blob"
   ]
  },
  {
   "cell_type": "code",
   "execution_count": 8,
   "id": "d6e6e2b3",
   "metadata": {},
   "outputs": [
    {
     "name": "stdout",
     "output_type": "stream",
     "text": [
      "(1, 224, 224, 3)\n"
     ]
    }
   ],
   "source": [
    "query_image_path = 'images/knf.jpg'\n",
    "preprocessed_query_image = preprocess_image(query_image_path, 224, 224)"
   ]
  },
  {
   "cell_type": "code",
   "execution_count": 9,
   "id": "dd2839a9",
   "metadata": {},
   "outputs": [],
   "source": [
    "result_infer = compiled_model([preprocessed_query_image])[output_layer]\n",
    "result_index = np.argmax(result_infer)"
   ]
  },
  {
   "cell_type": "code",
   "execution_count": null,
   "id": "e4b72b6c",
   "metadata": {},
   "outputs": [],
   "source": []
  },
  {
   "cell_type": "code",
   "execution_count": null,
   "id": "1cc4aee5",
   "metadata": {},
   "outputs": [],
   "source": []
  },
  {
   "cell_type": "code",
   "execution_count": 12,
   "id": "644a9164",
   "metadata": {},
   "outputs": [
    {
     "name": "stdout",
     "output_type": "stream",
     "text": [
      "(1, 224, 224, 3)\n",
      "(1, 224, 224, 3)\n",
      "(1, 224, 224, 3)\n",
      "(1, 224, 224, 3)\n",
      "(1, 224, 224, 3)\n",
      "(1, 224, 224, 3)\n",
      "(1, 224, 224, 3)\n",
      "(1, 224, 224, 3)\n",
      "(1, 224, 224, 3)\n",
      "(1, 224, 224, 3)\n"
     ]
    }
   ],
   "source": [
    "# Preprocess the batch of images\n",
    "batch_images_path = 'archive/batchZip.zip'\n",
    "batch_images_dir = 'unpack_archive'\n",
    "\n",
    "with zipfile.ZipFile(batch_images_path, 'r') as zip_ref:\n",
    "    zip_ref.extractall(batch_images_dir)\n",
    "    zip_ref.close()\n",
    "\n",
    "batch_images = []\n",
    "for image_file in os.listdir(batch_images_dir):\n",
    "    image_path = os.path.join(batch_images_dir, image_file)\n",
    "    preprocessed_image = preprocess_image(image_path, 224, 224)\n",
    "    batch_images.append(preprocessed_image)\n",
    "\n",
    "batch_images = np.array(batch_images)"
   ]
  },
  {
   "cell_type": "code",
   "execution_count": 26,
   "id": "c12026ae",
   "metadata": {},
   "outputs": [],
   "source": [
    "result_batch = []\n",
    "for i in range(len(batch_images)):\n",
    "    result = compiled_model([batch_images[i]])[output_layer]\n",
    "    result_batch.append(result)"
   ]
  },
  {
   "cell_type": "code",
   "execution_count": 29,
   "id": "e2cc615e",
   "metadata": {},
   "outputs": [],
   "source": [
    "result_batch = np.array(result_batch)"
   ]
  },
  {
   "cell_type": "code",
   "execution_count": null,
   "id": "20c204fe",
   "metadata": {},
   "outputs": [],
   "source": []
  }
 ],
 "metadata": {
  "kernelspec": {
   "display_name": "env",
   "language": "python",
   "name": "env"
  },
  "language_info": {
   "codemirror_mode": {
    "name": "ipython",
    "version": 3
   },
   "file_extension": ".py",
   "mimetype": "text/x-python",
   "name": "python",
   "nbconvert_exporter": "python",
   "pygments_lexer": "ipython3",
   "version": "3.10.2"
  }
 },
 "nbformat": 4,
 "nbformat_minor": 5
}
