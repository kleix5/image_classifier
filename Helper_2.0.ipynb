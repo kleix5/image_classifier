{
 "cells": [
  {
   "cell_type": "code",
   "execution_count": 1,
   "id": "06c4491b",
   "metadata": {},
   "outputs": [],
   "source": [
    "import os\n",
    "import numpy as np\n",
    "import zipfile\n",
    "import io\n",
    "import inspect\n",
    "import cv2\n",
    "from sklearn.metrics.pairwise import cosine_distances\n",
    "\n",
    "from openvino.inference_engine import IECore\n",
    "from openvino.runtime import Core"
   ]
  },
  {
   "cell_type": "code",
   "execution_count": 2,
   "id": "87c6cde8",
   "metadata": {},
   "outputs": [],
   "source": [
    "core = Core()"
   ]
  },
  {
   "cell_type": "code",
   "execution_count": 3,
   "id": "b2dc5ddf",
   "metadata": {
    "scrolled": true
   },
   "outputs": [
    {
     "name": "stdout",
     "output_type": "stream",
     "text": [
      "CPU:        Intel(R) Core(TM) i5-2410M CPU @ 2.30GHz\n"
     ]
    }
   ],
   "source": [
    "devices = core.available_devices\n",
    "\n",
    "for device in devices:\n",
    "    device_name = core.get_property(device, \"FULL_DEVICE_NAME\")\n",
    "    print(f\"{device}: {device_name}\")"
   ]
  },
  {
   "cell_type": "code",
   "execution_count": 4,
   "id": "77497823",
   "metadata": {},
   "outputs": [],
   "source": [
    "# models = os.path.join('models', os.listdir('models')[1])"
   ]
  },
  {
   "cell_type": "code",
   "execution_count": 5,
   "id": "171eca5a",
   "metadata": {},
   "outputs": [],
   "source": [
    "classification_model_xml = 'models/image-retrieval-0001/FP32/image-retrieval-0001.xml'\n",
    "# classification_model_xml = 'models/vehicle-detection-0200/FP32/vehicle-detection-0200.xml'\n",
    "\n",
    "model = core.read_model(model=classification_model_xml)\n",
    "compiled_model = core.compile_model(model=model, device_name=\"CPU\")"
   ]
  },
  {
   "cell_type": "code",
   "execution_count": 6,
   "id": "8c7c8692",
   "metadata": {},
   "outputs": [],
   "source": [
    "input_layer = compiled_model.input(0)\n",
    "output_layer = compiled_model.output(0)"
   ]
  },
  {
   "cell_type": "code",
   "execution_count": 7,
   "id": "a674b93f",
   "metadata": {},
   "outputs": [
    {
     "name": "stdout",
     "output_type": "stream",
     "text": [
      "input precision: <Type: 'float32'>\n",
      "input shape: [1,224,224,3]\n"
     ]
    }
   ],
   "source": [
    "print(f\"input precision: {input_layer.element_type}\")\n",
    "print(f\"input shape: {input_layer.shape}\")"
   ]
  },
  {
   "cell_type": "code",
   "execution_count": 8,
   "id": "1d1d8e67",
   "metadata": {},
   "outputs": [],
   "source": [
    "def preprocess_image(image_path, h, w):\n",
    "    image = cv2.imread(image_path)\n",
    "    image = cv2.resize(image, (w, h))\n",
    "    image = cv2.cvtColor(image, cv2.COLOR_BGR2RGB)\n",
    "    image = image.astype(np.float32)  # Convert to float32\n",
    "#     image = image.transpose((0, 3, 1, 2))  # Interchange dimensions to [1, 3, 224, 224]\n",
    "    image = np.array(image)\n",
    "#     print(image)\n",
    "    blob = np.expand_dims(image, axis=0)  # Add batch dimension\n",
    "#     print(blob.shape)\n",
    "#     blob = blob.transpose((0, 3, 1, 2))\n",
    "    return blob\n",
    "    "
   ]
  },
  {
   "cell_type": "code",
   "execution_count": 9,
   "id": "f40bf4db",
   "metadata": {},
   "outputs": [],
   "source": [
    "query_image_path = os.path.join('uploads/images', os.listdir('uploads/images')[0]) # возвращаем путь к картинке по которой ищем совпадение\n",
    "# preprocessed_query_image = preprocess_image(query_image_path, 224, 224)\n",
    "preprocessed_query_image = preprocess_image(query_image_path, 224, 224)"
   ]
  },
  {
   "cell_type": "code",
   "execution_count": 10,
   "id": "dd2839a9",
   "metadata": {},
   "outputs": [],
   "source": [
    "result_infer = compiled_model([preprocessed_query_image])[output_layer] # обрабатываем картинку\n",
    "result_index = np.argmax(result_infer)"
   ]
  },
  {
   "cell_type": "code",
   "execution_count": 11,
   "id": "644a9164",
   "metadata": {},
   "outputs": [],
   "source": [
    "# Preprocess the batch of images\n",
    "batch_images_path = 'archive/data_set_animals.zip'\n",
    "batch_images_dir = 'uploads/unpack_archive'\n",
    "\n",
    "with zipfile.ZipFile(batch_images_path, 'r') as zip_ref:\n",
    "    zip_ref.extractall(batch_images_dir)\n",
    "    zip_ref.close()\n",
    "\n",
    "batch_images = []\n",
    "for image_file in os.listdir(batch_images_dir):\n",
    "    image_path = os.path.join(batch_images_dir, image_file)\n",
    "    preprocessed_image = preprocess_image(image_path, 224, 224)\n",
    "    batch_images.append(preprocessed_image)\n",
    "\n",
    "batch_images = np.array(batch_images)\n",
    "\n",
    "result_batch = []\n",
    "for i in range(len(batch_images)):\n",
    "    result = compiled_model([batch_images[i]])[output_layer]\n",
    "    result_batch.append(result)\n",
    "    \n",
    "result_batch = np.array(result_batch)"
   ]
  },
  {
   "cell_type": "code",
   "execution_count": 12,
   "id": "d8f32d9f",
   "metadata": {},
   "outputs": [],
   "source": [
    "index_box = []\n",
    "for i in range(len(result_batch)):\n",
    "    index = np.argmax(result_batch[i])\n",
    "    index_box.append(index)"
   ]
  },
  {
   "cell_type": "code",
   "execution_count": 13,
   "id": "600f96a2",
   "metadata": {},
   "outputs": [],
   "source": [
    "comparation = {}"
   ]
  },
  {
   "cell_type": "code",
   "execution_count": 14,
   "id": "178182e4",
   "metadata": {},
   "outputs": [],
   "source": [
    "for i in range(len(result_batch)):\n",
    "    similarities = 1 - cosine_distances(result_infer, result_batch[i])\n",
    "    percentages = similarities * 100\n",
    "    comparation[os.listdir(batch_images_dir)[i]] = percentages[0][0]"
   ]
  },
  {
   "cell_type": "code",
   "execution_count": 16,
   "id": "2108c4de",
   "metadata": {},
   "outputs": [
    {
     "name": "stdout",
     "output_type": "stream",
     "text": [
      "Best similarity is : monkey_rgb.jpg 64.86789 %\n"
     ]
    }
   ],
   "source": [
    "best_similarity = max(comparation, key= lambda x: comparation[x]) # находим максимальное значение\n",
    "print(f\"Best similarity is : {best_similarity}\", comparation[best_similarity], '%') # функция .item() извлекает данные из nd.array"
   ]
  },
  {
   "cell_type": "code",
   "execution_count": 17,
   "id": "72162530",
   "metadata": {},
   "outputs": [
    {
     "data": {
      "text/plain": [
       "{'bear_bw.jpg': 32.66827,\n",
       " 'bear_real.jpg': 40.377884,\n",
       " 'bear_real_2.0.jpg': 4.6197414,\n",
       " 'bear_real_3.0.jpg': 9.756327,\n",
       " 'bear_real_4.0.jpg': 1.2092471,\n",
       " 'bear_rgb.jpg': 5.958337,\n",
       " 'croc_bw.jpg': 46.84019,\n",
       " 'croc_real.jpg': -6.2015533,\n",
       " 'croc_rgb.jpg': -3.2173753,\n",
       " 'croc_rgb_2.0.jpg': 5.526799,\n",
       " 'eleph_bw.jpg': -3.8365364,\n",
       " 'eleph_real.jpg': 0.2820611,\n",
       " 'eleph_real_2.0.jpg': 11.172581,\n",
       " 'eleph_rgb.jpg': -8.473719,\n",
       " 'lion_bw.jpg': 18.487406,\n",
       " 'lion_real.jpg': -13.319182,\n",
       " 'lion_rgb.jpg': 9.3071995,\n",
       " 'monkey_bw.jpg': 43.620605,\n",
       " 'monkey_bw_2.0.jpg': 2.9915333,\n",
       " 'monkey_real.jpg': 1.9147813,\n",
       " 'monkey_real_2.0.jpg': -2.300465,\n",
       " 'monkey_rgb.jpg': 64.86789,\n",
       " 'monkey_rgb_2.0.jpg': 14.356577,\n",
       " 'pig_bw.jpg': 49.382412,\n",
       " 'pig_bw_2.0.jpg': 55.58306,\n",
       " 'pig_real.jpg': -7.07798,\n",
       " 'pig_rgb.jpg': -3.9084196,\n",
       " 'pig_rgb_2.0.jpg': -1.1155367,\n",
       " 'tiger_bw.jpg': 30.66666,\n",
       " 'tiger_bw_2.0.jpg': 39.777176,\n",
       " 'tiger_real.jpg': -0.30314922,\n",
       " 'tiger_rgb.jpg': 21.09,\n",
       " 'tiger_rgb_2.0.jpg': 18.249887}"
      ]
     },
     "execution_count": 17,
     "metadata": {},
     "output_type": "execute_result"
    }
   ],
   "source": [
    "comparation"
   ]
  },
  {
   "cell_type": "code",
   "execution_count": 18,
   "id": "606d8ec9",
   "metadata": {},
   "outputs": [],
   "source": [
    "comp = {'bear_bw.jpg': 0.50496274, 'bear_real.jpg': 0.43372342, 'bear_real_2.0.jpg': 0.39378983, 'bear_real_3.0.jpg': 0.40396994, 'bear_real_4.0.jpg': 0.4154652, 'bear_rgb.jpg': 0.4845882, 'croc_bw.jpg': 0.5385465, 'croc_real.jpg': 0.44251496, 'croc_rgb.jpg': 0.532655, 'croc_rgb_2.0.jpg': 0.5355294, 'eleph_bw.jpg': 0.44278064, 'eleph_real.jpg': 0.44233766, 'eleph_real_2.0.jpg': 0.52261055, 'eleph_rgb.jpg': 0.5083694, 'lion_bw.jpg': 0.47341582, 'lion_real.jpg': 0.43450722, 'lion_rgb.jpg': 0.4624901, 'monkey_bw.jpg': 0.47415784, 'monkey_bw_2.0.jpg': 0.4488975, 'monkey_real.jpg': 0.41878173, 'monkey_real_2.0.jpg': 0.4007879, 'monkey_rgb.jpg': 0.4351797, 'monkey_rgb_2.0.jpg': 0.44396755, 'pig_bw.jpg': 0.44886768, 'pig_bw_2.0.jpg': 0.44045845, 'pig_real.jpg': 0.40686652, 'pig_rgb.jpg': 0.48215085, 'pig_rgb_2.0.jpg': 0.47650814, 'tiger_bw.jpg': 0.5088632, 'tiger_bw_2.0.jpg': 0.409758, 'tiger_real.jpg': 0.38400716, 'tiger_rgb.jpg': 0.4988936, 'tiger_rgb_2.0.jpg': 0.5433155}"
   ]
  },
  {
   "cell_type": "code",
   "execution_count": 19,
   "id": "242482cc",
   "metadata": {},
   "outputs": [
    {
     "data": {
      "text/plain": [
       "{'bear_bw.jpg': 0.50496274,\n",
       " 'bear_real.jpg': 0.43372342,\n",
       " 'bear_real_2.0.jpg': 0.39378983,\n",
       " 'bear_real_3.0.jpg': 0.40396994,\n",
       " 'bear_real_4.0.jpg': 0.4154652,\n",
       " 'bear_rgb.jpg': 0.4845882,\n",
       " 'croc_bw.jpg': 0.5385465,\n",
       " 'croc_real.jpg': 0.44251496,\n",
       " 'croc_rgb.jpg': 0.532655,\n",
       " 'croc_rgb_2.0.jpg': 0.5355294,\n",
       " 'eleph_bw.jpg': 0.44278064,\n",
       " 'eleph_real.jpg': 0.44233766,\n",
       " 'eleph_real_2.0.jpg': 0.52261055,\n",
       " 'eleph_rgb.jpg': 0.5083694,\n",
       " 'lion_bw.jpg': 0.47341582,\n",
       " 'lion_real.jpg': 0.43450722,\n",
       " 'lion_rgb.jpg': 0.4624901,\n",
       " 'monkey_bw.jpg': 0.47415784,\n",
       " 'monkey_bw_2.0.jpg': 0.4488975,\n",
       " 'monkey_real.jpg': 0.41878173,\n",
       " 'monkey_real_2.0.jpg': 0.4007879,\n",
       " 'monkey_rgb.jpg': 0.4351797,\n",
       " 'monkey_rgb_2.0.jpg': 0.44396755,\n",
       " 'pig_bw.jpg': 0.44886768,\n",
       " 'pig_bw_2.0.jpg': 0.44045845,\n",
       " 'pig_real.jpg': 0.40686652,\n",
       " 'pig_rgb.jpg': 0.48215085,\n",
       " 'pig_rgb_2.0.jpg': 0.47650814,\n",
       " 'tiger_bw.jpg': 0.5088632,\n",
       " 'tiger_bw_2.0.jpg': 0.409758,\n",
       " 'tiger_real.jpg': 0.38400716,\n",
       " 'tiger_rgb.jpg': 0.4988936,\n",
       " 'tiger_rgb_2.0.jpg': 0.5433155}"
      ]
     },
     "execution_count": 19,
     "metadata": {},
     "output_type": "execute_result"
    }
   ],
   "source": [
    "comp"
   ]
  },
  {
   "cell_type": "code",
   "execution_count": null,
   "id": "c30db93d",
   "metadata": {},
   "outputs": [],
   "source": []
  }
 ],
 "metadata": {
  "kernelspec": {
   "display_name": "env",
   "language": "python",
   "name": "env"
  },
  "language_info": {
   "codemirror_mode": {
    "name": "ipython",
    "version": 3
   },
   "file_extension": ".py",
   "mimetype": "text/x-python",
   "name": "python",
   "nbconvert_exporter": "python",
   "pygments_lexer": "ipython3",
   "version": "3.10.2"
  }
 },
 "nbformat": 4,
 "nbformat_minor": 5
}
