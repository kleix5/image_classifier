{
 "cells": [
  {
   "cell_type": "code",
   "execution_count": 1,
   "id": "06c4491b",
   "metadata": {},
   "outputs": [],
   "source": [
    "import os\n",
    "import numpy as np\n",
    "import zipfile\n",
    "import io\n",
    "import inspect\n",
    "import cv2\n",
    "from sklearn.metrics.pairwise import cosine_distances\n",
    "\n",
    "from openvino.inference_engine import IECore\n",
    "from openvino.runtime import Core"
   ]
  },
  {
   "cell_type": "code",
   "execution_count": 2,
   "id": "87c6cde8",
   "metadata": {},
   "outputs": [],
   "source": [
    "core = Core()"
   ]
  },
  {
   "cell_type": "code",
   "execution_count": 3,
   "id": "b2dc5ddf",
   "metadata": {},
   "outputs": [
    {
     "name": "stdout",
     "output_type": "stream",
     "text": [
      "CPU:        Intel(R) Core(TM) i5-2410M CPU @ 2.30GHz\n"
     ]
    }
   ],
   "source": [
    "devices = core.available_devices\n",
    "\n",
    "for device in devices:\n",
    "    device_name = core.get_property(device, \"FULL_DEVICE_NAME\")\n",
    "    print(f\"{device}: {device_name}\")"
   ]
  },
  {
   "cell_type": "code",
   "execution_count": 4,
   "id": "171eca5a",
   "metadata": {},
   "outputs": [],
   "source": [
    "classification_model_xml = 'image-retrieval-0001/FP32/image-retrieval-0001.xml'\n",
    "\n",
    "model = core.read_model(model=classification_model_xml)\n",
    "compiled_model = core.compile_model(model=model, device_name=\"CPU\")"
   ]
  },
  {
   "cell_type": "code",
   "execution_count": 5,
   "id": "8c7c8692",
   "metadata": {},
   "outputs": [],
   "source": [
    "input_layer = compiled_model.input(0)\n",
    "output_layer = compiled_model.output(0)"
   ]
  },
  {
   "cell_type": "code",
   "execution_count": 6,
   "id": "a674b93f",
   "metadata": {},
   "outputs": [
    {
     "name": "stdout",
     "output_type": "stream",
     "text": [
      "input precision: <Type: 'float32'>\n",
      "input shape: [1,224,224,3]\n"
     ]
    }
   ],
   "source": [
    "print(f\"input precision: {input_layer.element_type}\")\n",
    "print(f\"input shape: {input_layer.shape}\")"
   ]
  },
  {
   "cell_type": "code",
   "execution_count": 7,
   "id": "1d1d8e67",
   "metadata": {},
   "outputs": [],
   "source": [
    "def preprocess_image(image_path, h, w):\n",
    "    image = cv2.imread(image_path)\n",
    "    image = cv2.resize(image, (w, h))\n",
    "    image = cv2.cvtColor(image, cv2.COLOR_BGR2RGB)\n",
    "    image = image.astype(np.float32)  # Convert to float32\n",
    "#     image = image.transpose((2, 0, 1))  # Interchange dimensions to [1, 3, 224, 224]\n",
    "    image = np.array(image)\n",
    "    blob = np.expand_dims(image, axis=0)  # Add batch dimension\n",
    "#     print(blob.shape)\n",
    "    return blob"
   ]
  },
  {
   "cell_type": "code",
   "execution_count": 8,
   "id": "f40bf4db",
   "metadata": {},
   "outputs": [
    {
     "name": "stdout",
     "output_type": "stream",
     "text": [
      "(1, 224, 224, 3)\n"
     ]
    }
   ],
   "source": [
    "query_image_path = os.path.join('images', os.listdir('images')[0]) # возвращаем путь к картинке по которой ищем совпадение\n",
    "preprocessed_query_image = preprocess_image(query_image_path, 224, 224)"
   ]
  },
  {
   "cell_type": "code",
   "execution_count": 9,
   "id": "dd2839a9",
   "metadata": {},
   "outputs": [],
   "source": [
    "result_infer = compiled_model([preprocessed_query_image])[output_layer] # обрабатываем картинку\n",
    "result_index = np.argmax(result_infer)"
   ]
  },
  {
   "cell_type": "code",
   "execution_count": 10,
   "id": "644a9164",
   "metadata": {},
   "outputs": [
    {
     "name": "stdout",
     "output_type": "stream",
     "text": [
      "(1, 224, 224, 3)\n",
      "(1, 224, 224, 3)\n",
      "(1, 224, 224, 3)\n",
      "(1, 224, 224, 3)\n",
      "(1, 224, 224, 3)\n",
      "(1, 224, 224, 3)\n",
      "(1, 224, 224, 3)\n",
      "(1, 224, 224, 3)\n",
      "(1, 224, 224, 3)\n",
      "(1, 224, 224, 3)\n"
     ]
    }
   ],
   "source": [
    "# Preprocess the batch of images\n",
    "batch_images_path = 'archive/batchZip.zip'\n",
    "batch_images_dir = 'unpack_archive'\n",
    "\n",
    "with zipfile.ZipFile(batch_images_path, 'r') as zip_ref:\n",
    "    zip_ref.extractall(batch_images_dir)\n",
    "    zip_ref.close()\n",
    "\n",
    "batch_images = []\n",
    "for image_file in os.listdir(batch_images_dir):\n",
    "    image_path = os.path.join(batch_images_dir, image_file)\n",
    "    preprocessed_image = preprocess_image(image_path, 224, 224)\n",
    "    batch_images.append(preprocessed_image)\n",
    "\n",
    "batch_images = np.array(batch_images)\n",
    "\n",
    "result_batch = []\n",
    "for i in range(len(batch_images)):\n",
    "    result = compiled_model([batch_images[i]])[output_layer]\n",
    "    result_batch.append(result)\n",
    "    \n",
    "result_batch = np.array(result_batch)"
   ]
  },
  {
   "cell_type": "code",
   "execution_count": 11,
   "id": "d8f32d9f",
   "metadata": {},
   "outputs": [],
   "source": [
    "index_box = []\n",
    "for i in range(len(result_batch)):\n",
    "    index = np.argmax(result_batch[i])\n",
    "    index_box.append(index)"
   ]
  },
  {
   "cell_type": "code",
   "execution_count": 26,
   "id": "600f96a2",
   "metadata": {},
   "outputs": [],
   "source": [
    "comparation = {}"
   ]
  },
  {
   "cell_type": "code",
   "execution_count": 24,
   "id": "42f3ce81",
   "metadata": {},
   "outputs": [],
   "source": [
    "# adding new key/value to dict sample \n",
    "dicty['a'] = 1"
   ]
  },
  {
   "cell_type": "code",
   "execution_count": 27,
   "id": "fd333dcb",
   "metadata": {},
   "outputs": [],
   "source": [
    "for i in range(len(result_batch)):\n",
    "    similarities = 1 - cosine_distances(result_infer, result_batch[i])\n",
    "    percentages = similarities * 100\n",
    "    comparation[os.listdir(batch_images_dir)[i]] = percentages"
   ]
  },
  {
   "cell_type": "code",
   "execution_count": 45,
   "id": "a5257da6",
   "metadata": {},
   "outputs": [
    {
     "name": "stdout",
     "output_type": "stream",
     "text": [
      "Best similarity is : knife.jpg 86.75353240966797 %\n"
     ]
    }
   ],
   "source": [
    "best_similarity = max(comparation, key= lambda x: comparation[x]) # находим максимальное значение\n",
    "print(f\"Best similarity is : {best_similarity}\", comparation[best_similarity].item(0, 0), '%') # функция .item() извлекает данные из nd.array"
   ]
  },
  {
   "cell_type": "code",
   "execution_count": 18,
   "id": "79db477b",
   "metadata": {},
   "outputs": [
    {
     "name": "stdout",
     "output_type": "stream",
     "text": [
      "Совпадение с изображением 1: [86.75353]%\n"
     ]
    }
   ],
   "source": [
    "# Рассчитать косинусное расстояние между result_infer и каждым объектом в result_batch\n",
    "similarities = 1 - cosine_distances(result_infer, result_batch[5])\n",
    "\n",
    "# Преобразовать косинусные расстояния в проценты совпадения\n",
    "percentages = similarities * 100\n",
    "\n",
    "# Вывести проценты совпадения\n",
    "for i, percentage in enumerate(percentages):\n",
    "    print(f\"Совпадение с изображением {i+1}: {percentage}%\")"
   ]
  },
  {
   "cell_type": "code",
   "execution_count": null,
   "id": "862b8038",
   "metadata": {},
   "outputs": [],
   "source": []
  }
 ],
 "metadata": {
  "kernelspec": {
   "display_name": "env",
   "language": "python",
   "name": "env"
  },
  "language_info": {
   "codemirror_mode": {
    "name": "ipython",
    "version": 3
   },
   "file_extension": ".py",
   "mimetype": "text/x-python",
   "name": "python",
   "nbconvert_exporter": "python",
   "pygments_lexer": "ipython3",
   "version": "3.10.2"
  }
 },
 "nbformat": 4,
 "nbformat_minor": 5
}
