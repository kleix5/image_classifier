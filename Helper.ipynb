{
 "cells": [
  {
   "cell_type": "code",
   "execution_count": 1,
   "id": "74be5677",
   "metadata": {},
   "outputs": [],
   "source": [
    "import os\n",
    "import pickle\n",
    "import time\n",
    "import collections\n",
    "import sys\n",
    "\n",
    "import cv2\n",
    "import argparse\n",
    "import numpy as np\n",
    "from IPython import display\n",
    "\n",
    "import zipfile\n",
    "import io\n",
    "import inspect\n",
    "\n",
    "from openvino.inference_engine import IECore"
   ]
  },
  {
   "cell_type": "code",
   "execution_count": 2,
   "id": "17c72b23",
   "metadata": {},
   "outputs": [],
   "source": [
    "# Load the model\n",
    "model_xml = 'image-retrieval-0001/FP16/image-retrieval-0001.xml'\n",
    "model_bin = 'image-retrieval-0001/FP16/image-retrieval-0001.bin'"
   ]
  },
  {
   "cell_type": "code",
   "execution_count": 3,
   "id": "3215c772",
   "metadata": {},
   "outputs": [],
   "source": [
    "model_name = 'image-retrieval-0001'\n",
    "base_model_dir = 'image-retrieval-0001'\n",
    "precision = 'FP16'"
   ]
  },
  {
   "cell_type": "code",
   "execution_count": 4,
   "id": "7311759c",
   "metadata": {},
   "outputs": [],
   "source": [
    "if not os.path.exists(model_xml):\n",
    "    convert_command = f\"omz_converter \" \\\n",
    "                      f\"--name {model_name} \" \\\n",
    "                      f\"--download_dir {base_model_dir} \" \\\n",
    "                      f\"--precisions {precision}\"\n",
    "    ! $convert_command"
   ]
  },
  {
   "cell_type": "code",
   "execution_count": 5,
   "id": "a95cf79b",
   "metadata": {},
   "outputs": [],
   "source": [
    "ie = IECore()\n",
    "net = ie.read_network(model=model_xml, weights=model_bin)\n",
    "# net = net.reshape([1, 3, 224, 224]) # here I want to change input shape of model, but it ask's for a dict instead list\n",
    "exec_net = ie.load_network(network=net, device_name='CPU')"
   ]
  },
  {
   "cell_type": "code",
   "execution_count": 13,
   "id": "c6a2c8e7",
   "metadata": {},
   "outputs": [
    {
     "data": {
      "text/plain": [
       "{'Placeholder': <openvino.inference_engine.ie_api.InputInfoPtr at 0x27eb0cbd0e0>}"
      ]
     },
     "execution_count": 13,
     "metadata": {},
     "output_type": "execute_result"
    }
   ],
   "source": [
    "net.input_info"
   ]
  },
  {
   "cell_type": "code",
   "execution_count": 6,
   "id": "9711374c",
   "metadata": {},
   "outputs": [],
   "source": [
    "input_blob = next(iter(net.input_info))\n",
    "out_blob = next(iter(net.outputs))"
   ]
  },
  {
   "cell_type": "code",
   "execution_count": 7,
   "id": "3ae618bc",
   "metadata": {},
   "outputs": [],
   "source": [
    "def preprocess_image(image_path, h, w):\n",
    "    image = cv2.imread(image_path)\n",
    "    image = cv2.resize(image, (w, h))\n",
    "    image = cv2.cvtColor(image, cv2.COLOR_BGR2RGB)\n",
    "    image = image.astype(np.float32)  # Convert to float32\n",
    "#     image = image.transpose((2, 0, 1))  # Interchange dimensions to [1, 3, 224, 224]\n",
    "    image = np.array(image)\n",
    "    blob = np.expand_dims(image, axis=0)  # Add batch dimension\n",
    "    print(blob.shape)\n",
    "    return blob"
   ]
  },
  {
   "cell_type": "code",
   "execution_count": 16,
   "id": "7745747a",
   "metadata": {},
   "outputs": [
    {
     "name": "stdout",
     "output_type": "stream",
     "text": [
      "(1, 224, 224, 3)\n",
      "(1, 224, 224, 3)\n",
      "(1, 224, 224, 3)\n",
      "(1, 224, 224, 3)\n",
      "(1, 224, 224, 3)\n",
      "(1, 224, 224, 3)\n",
      "(1, 224, 224, 3)\n",
      "(1, 224, 224, 3)\n",
      "(1, 224, 224, 3)\n",
      "(1, 224, 224, 3)\n"
     ]
    }
   ],
   "source": [
    "# Preprocess the batch of images\n",
    "batch_images_path = 'archive/batchZip.zip'\n",
    "batch_images_dir = 'unpack_archive'\n",
    "\n",
    "\n",
    "with zipfile.ZipFile(batch_images_path, 'r') as zip_ref:\n",
    "    zip_ref.extractall(batch_images_dir)\n",
    "    zip_ref.close()\n",
    "\n",
    "batch_images = []\n",
    "for image_file in os.listdir(batch_images_dir):\n",
    "    image_path = os.path.join(batch_images_dir, image_file)\n",
    "    preprocessed_image = preprocess_image(image_path, 224, 224)\n",
    "    batch_images.append(exec_net.infer(inputs = {input_blob: preprocessed_image}))\n",
    "# написать цикл сравнения batch_images и главной картинки (output)!!!!\n",
    "# batch_images = np.array(batch_images)"
   ]
  },
  {
   "cell_type": "code",
   "execution_count": 20,
   "id": "a2272140",
   "metadata": {},
   "outputs": [
    {
     "data": {
      "text/plain": [
       "{'Placeholder': <openvino.inference_engine.ie_api.InputInfoPtr at 0x27eb0cbf420>}"
      ]
     },
     "execution_count": 20,
     "metadata": {},
     "output_type": "execute_result"
    }
   ],
   "source": [
    "net.input_info\n"
   ]
  },
  {
   "cell_type": "code",
   "execution_count": 24,
   "id": "e34453c5",
   "metadata": {},
   "outputs": [
    {
     "name": "stdout",
     "output_type": "stream",
     "text": [
      "(1, 224, 224, 3)\n"
     ]
    }
   ],
   "source": [
    "# Данный блок кода из лекции, его необходимо распределить по приложению!!!!! \n",
    "input_blob = next(iter(net.input_info))\n",
    "out_blob = next(iter(net.outputs))\n",
    "n, h, w, c = net.input_info[input_blob].input_data.shape\n",
    "# Load, transpose, expand operations\n",
    "blob = preprocess_image('images/knf.jpg', w, h)\n",
    "# Execute\n",
    "output = exec_net.infer(inputs = {input_blob: blob})\n",
    "output = output[out_blob]"
   ]
  },
  {
   "cell_type": "code",
   "execution_count": 25,
   "id": "bcd8b213",
   "metadata": {},
   "outputs": [
    {
     "data": {
      "text/plain": [
       "array([[ 6.22731298e-02,  4.34976146e-02,  9.02910456e-02,\n",
       "        -1.50097429e-03, -1.35600092e-02,  1.73886511e-02,\n",
       "        -4.19101417e-02,  9.76884086e-03,  1.98603626e-02,\n",
       "        -8.59015584e-02, -3.74260452e-03,  5.12176231e-02,\n",
       "         9.49959606e-02, -1.00796126e-01,  1.56500600e-02,\n",
       "        -7.90645108e-02,  2.16081440e-02, -4.41139489e-02,\n",
       "         1.13691247e-04,  1.42992780e-01, -2.07431260e-02,\n",
       "         9.93202627e-02, -4.24874425e-02, -5.36948331e-02,\n",
       "        -2.41894964e-02,  6.92646503e-02, -2.42105369e-02,\n",
       "         9.84907802e-03,  1.59111582e-02, -6.95780590e-02,\n",
       "        -2.67326552e-02, -3.44167873e-02,  2.67278720e-02,\n",
       "         5.29089868e-02, -1.99196438e-05, -6.36052266e-02,\n",
       "        -1.50818661e-01,  2.26238891e-02,  8.76223966e-02,\n",
       "         2.72878613e-02, -4.55431864e-02, -1.97101049e-02,\n",
       "         1.81965083e-02, -6.81264549e-02, -9.80198309e-02,\n",
       "         4.06974182e-03, -1.43808732e-02, -4.49153706e-02,\n",
       "         4.72197607e-02, -9.22180414e-02,  4.03433144e-02,\n",
       "        -9.42175649e-03, -4.18704189e-02, -8.15552324e-02,\n",
       "         6.73670620e-02, -9.54070911e-02,  7.56768361e-02,\n",
       "        -6.66925386e-02, -6.81380853e-02, -9.04679000e-02,\n",
       "        -7.67572410e-03,  3.57589386e-02,  1.43993363e-01,\n",
       "         8.83796290e-02, -5.90105616e-02, -1.21375255e-01,\n",
       "         1.07637368e-01, -3.33973119e-04, -8.16409737e-02,\n",
       "         1.83252528e-01, -3.14627625e-02, -2.51167212e-02,\n",
       "        -9.07584354e-02,  5.84679306e-04, -1.18725359e-01,\n",
       "         2.63045207e-02, -5.51042031e-04,  7.24627450e-02,\n",
       "         1.68816463e-04,  4.53839973e-02, -1.18544981e-01,\n",
       "         2.41934676e-02, -1.00176409e-01, -4.18425426e-02,\n",
       "         9.77513939e-03,  2.42508668e-02,  7.55389258e-02,\n",
       "        -2.11505909e-02,  1.50855575e-02, -3.46386209e-02,\n",
       "         7.31356218e-02, -6.21424541e-02,  7.38092288e-02,\n",
       "         3.16175334e-02, -4.77321222e-02, -1.08056679e-01,\n",
       "         4.81512547e-02,  7.52008380e-03,  5.57871982e-02,\n",
       "         4.81986217e-02, -1.69754773e-02,  9.09079332e-03,\n",
       "        -4.15263921e-02,  2.16317736e-02,  6.87308311e-02,\n",
       "        -1.19383238e-01,  3.67679354e-03, -8.74588545e-03,\n",
       "        -3.12490645e-03,  1.02834970e-01, -1.13302954e-02,\n",
       "        -4.33689877e-02,  4.71473932e-02,  2.01422814e-02,\n",
       "        -6.86367005e-02,  7.07019344e-02, -7.31425136e-02,\n",
       "        -3.78967123e-03, -3.99584845e-02, -2.64847558e-02,\n",
       "         1.75142810e-02,  5.11521138e-02, -3.79043967e-02,\n",
       "        -2.27404200e-02,  2.84358673e-02, -2.07408536e-02,\n",
       "         6.63024932e-02, -3.48224752e-02, -4.31483099e-03,\n",
       "         2.74520088e-02, -2.02639718e-02,  8.66007581e-02,\n",
       "         1.04732988e-02,  2.60494296e-02,  6.20574653e-02,\n",
       "        -7.02468678e-02, -2.74326708e-02, -1.03909038e-01,\n",
       "        -7.58757293e-02,  1.58122368e-02, -4.53482606e-02,\n",
       "         1.21868460e-03, -1.58572756e-02, -1.65336747e-02,\n",
       "        -7.54795223e-02, -3.46202143e-02,  1.13000469e-02,\n",
       "        -3.39431800e-02,  2.74550647e-01, -5.61731718e-02,\n",
       "         1.48290485e-01,  6.80998713e-03, -2.81084273e-02,\n",
       "         1.72355678e-02, -2.02140510e-02,  5.71448728e-02,\n",
       "        -8.60188156e-02,  6.55556321e-02, -9.05415714e-02,\n",
       "        -3.83594818e-02, -5.17532229e-02,  4.38894704e-02,\n",
       "        -5.72629087e-02, -1.30437706e-02, -3.56946476e-02,\n",
       "        -6.14097342e-02, -6.78725392e-02, -4.36419137e-02,\n",
       "         1.54691041e-02, -8.22434500e-02, -6.45090938e-02,\n",
       "        -6.39175102e-02, -6.36585876e-02,  2.83892341e-02,\n",
       "         6.79355860e-03,  6.95773065e-02, -5.63105755e-03,\n",
       "        -9.83167626e-03,  4.90917489e-02, -5.74722067e-02,\n",
       "        -6.02907427e-02, -5.49179455e-03, -2.57947799e-02,\n",
       "        -1.31629556e-02, -1.46619007e-01,  2.57707443e-02,\n",
       "         1.91177353e-02,  1.17493737e-02, -8.16960260e-02,\n",
       "        -1.15473531e-02,  8.61047506e-02, -4.71036881e-03,\n",
       "        -7.97674432e-02, -6.32008091e-02, -3.21368463e-02,\n",
       "         1.53791613e-03,  3.22122127e-02,  7.22526386e-02,\n",
       "        -2.29682587e-02, -1.77097302e-02, -6.65086806e-02,\n",
       "         1.44868782e-02, -1.01127692e-01, -2.37488840e-02,\n",
       "         2.57120747e-03, -3.67768370e-02,  1.73785873e-02,\n",
       "        -4.40954790e-02,  6.09915741e-02, -7.37378746e-02,\n",
       "         4.49908674e-02, -1.33979559e-01, -1.03127874e-01,\n",
       "         8.89591128e-02, -1.02420099e-01,  4.09108773e-02,\n",
       "        -3.16151567e-02, -8.99498444e-03, -1.04441650e-01,\n",
       "         1.95415132e-02,  4.30051498e-02,  5.90443388e-02,\n",
       "         1.00722276e-01,  8.69454741e-02,  2.68686898e-02,\n",
       "        -2.39723045e-02,  1.44086275e-02, -8.60817432e-02,\n",
       "        -2.29210593e-02,  4.66017649e-02,  5.87622225e-02,\n",
       "         2.39826366e-02, -7.59974122e-03,  3.71525399e-02,\n",
       "         2.04472207e-02,  2.11040229e-02,  5.17943036e-03,\n",
       "        -1.68062225e-02,  3.18207256e-02,  6.16572797e-02,\n",
       "         1.47759384e-02, -1.31966535e-03,  3.44477184e-02,\n",
       "        -2.67790370e-02, -1.35451436e-01,  5.18229008e-02,\n",
       "        -1.66485742e-01, -6.36129528e-02,  2.47540958e-02,\n",
       "         5.24084009e-02, -4.88050096e-02, -1.26645984e-02,\n",
       "        -6.73845923e-03, -1.41921028e-01, -2.10116189e-02,\n",
       "         9.14085358e-02]], dtype=float32)"
      ]
     },
     "execution_count": 25,
     "metadata": {},
     "output_type": "execute_result"
    }
   ],
   "source": [
    "output"
   ]
  },
  {
   "cell_type": "code",
   "execution_count": null,
   "id": "e5471c88",
   "metadata": {},
   "outputs": [],
   "source": []
  },
  {
   "cell_type": "code",
   "execution_count": null,
   "id": "cce374a1",
   "metadata": {},
   "outputs": [],
   "source": []
  },
  {
   "cell_type": "code",
   "execution_count": null,
   "id": "fc206dbc",
   "metadata": {},
   "outputs": [],
   "source": []
  },
  {
   "cell_type": "code",
   "execution_count": null,
   "id": "7d0a0c17",
   "metadata": {},
   "outputs": [],
   "source": []
  },
  {
   "cell_type": "code",
   "execution_count": null,
   "id": "3c61b2c5",
   "metadata": {},
   "outputs": [],
   "source": []
  },
  {
   "cell_type": "markdown",
   "id": "987def29",
   "metadata": {},
   "source": [
    "Дальше попробуем загрузить изображение в модель последовательно руками"
   ]
  },
  {
   "cell_type": "raw",
   "id": "49befe55",
   "metadata": {},
   "source": [
    "image = cv2.imread('images/knf.jpg')\n",
    "\n",
    "image = cv2.cvtColor(image, cv2.COLOR_BGR2RGB)\n",
    "\n",
    "image_h, image_w, _ = image.shape\n",
    "\n",
    "N, H, W, C = net.input_info[input_blob].tensor_desc.dims\n",
    "\n",
    "resized_image = cv2.resize(image, (W, H))\n",
    "\n",
    "input_image = np.expand_dims(\n",
    "    resized_image.transpose((0,3,2, 1)))"
   ]
  },
  {
   "cell_type": "code",
   "execution_count": null,
   "id": "33f7f58f",
   "metadata": {},
   "outputs": [],
   "source": [
    "print('N = ', N, \"|\",'C = ', C, \"|\", 'H = ', H, \"|\", 'W = ', W, \"|\")"
   ]
  },
  {
   "cell_type": "code",
   "execution_count": null,
   "id": "cb332172",
   "metadata": {},
   "outputs": [],
   "source": [
    "input_image.shape"
   ]
  },
  {
   "cell_type": "code",
   "execution_count": null,
   "id": "b0bc1332",
   "metadata": {},
   "outputs": [],
   "source": [
    "output = exec_net.infer(inputs = {input_blob: input_image})"
   ]
  },
  {
   "cell_type": "code",
   "execution_count": null,
   "id": "1d47ef66",
   "metadata": {},
   "outputs": [],
   "source": []
  },
  {
   "cell_type": "code",
   "execution_count": null,
   "id": "da2036c7",
   "metadata": {},
   "outputs": [],
   "source": [
    "image = preprocess_image(\"images/knf.jpg\")"
   ]
  },
  {
   "cell_type": "code",
   "execution_count": null,
   "id": "6fed2569",
   "metadata": {},
   "outputs": [],
   "source": []
  },
  {
   "cell_type": "code",
   "execution_count": null,
   "id": "544bb14e",
   "metadata": {},
   "outputs": [],
   "source": []
  },
  {
   "cell_type": "code",
   "execution_count": null,
   "id": "1bff5b8c",
   "metadata": {},
   "outputs": [],
   "source": []
  },
  {
   "cell_type": "code",
   "execution_count": null,
   "id": "b8fb91af",
   "metadata": {},
   "outputs": [],
   "source": []
  },
  {
   "cell_type": "code",
   "execution_count": null,
   "id": "4ba007e1",
   "metadata": {},
   "outputs": [],
   "source": []
  },
  {
   "cell_type": "code",
   "execution_count": null,
   "id": "aad74430",
   "metadata": {
    "scrolled": true
   },
   "outputs": [],
   "source": [
    "net.input_info[input_blob].input_data.shape"
   ]
  },
  {
   "cell_type": "code",
   "execution_count": null,
   "id": "c462f2ab",
   "metadata": {},
   "outputs": [],
   "source": [
    "blob.shape"
   ]
  },
  {
   "cell_type": "code",
   "execution_count": null,
   "id": "485d8a26",
   "metadata": {},
   "outputs": [],
   "source": []
  },
  {
   "cell_type": "code",
   "execution_count": null,
   "id": "8eb644ac",
   "metadata": {},
   "outputs": [],
   "source": []
  },
  {
   "cell_type": "code",
   "execution_count": null,
   "id": "06b9fe6c",
   "metadata": {},
   "outputs": [],
   "source": []
  },
  {
   "cell_type": "code",
   "execution_count": null,
   "id": "0fffe547",
   "metadata": {},
   "outputs": [],
   "source": []
  },
  {
   "cell_type": "code",
   "execution_count": null,
   "id": "710b53c8",
   "metadata": {},
   "outputs": [],
   "source": []
  },
  {
   "cell_type": "code",
   "execution_count": null,
   "id": "536b492c",
   "metadata": {},
   "outputs": [],
   "source": []
  },
  {
   "cell_type": "code",
   "execution_count": null,
   "id": "e1c2d631",
   "metadata": {},
   "outputs": [],
   "source": [
    "# initialize inference engine\n",
    "ie_core = IECore()\n",
    "# read the network and corresponding weights from file\n",
    "net = ie_core.read_network(model=model_xml)\n",
    "# load the model on the CPU (you can choose manually CPU, GPU, MYRIAD etc.)\n",
    "# or let the engine choose best available device (AUTO)\n",
    "exec_net = ie_core.load_network(network=net, device_name=\"CPU\")\n",
    "\n",
    "# get input and output names of nodes\n",
    "input_key = list(exec_net.input_info)[0]\n",
    "output_key = list(exec_net.outputs.keys())[0]\n",
    "\n",
    "# get input size\n",
    "height, width = exec_net.input_info[input_key].tensor_desc.dims[2:]"
   ]
  },
  {
   "cell_type": "code",
   "execution_count": null,
   "id": "01b63d63",
   "metadata": {},
   "outputs": [],
   "source": [
    "output_key"
   ]
  },
  {
   "cell_type": "code",
   "execution_count": null,
   "id": "4393dc1f",
   "metadata": {},
   "outputs": [],
   "source": []
  },
  {
   "cell_type": "code",
   "execution_count": null,
   "id": "c86bcb15",
   "metadata": {},
   "outputs": [],
   "source": []
  },
  {
   "cell_type": "code",
   "execution_count": null,
   "id": "4686421c",
   "metadata": {},
   "outputs": [],
   "source": []
  },
  {
   "cell_type": "markdown",
   "id": "c11b79af",
   "metadata": {},
   "source": [
    "# тут roi_matching.py из проекта imgcls"
   ]
  },
  {
   "cell_type": "code",
   "execution_count": null,
   "id": "13af5b94",
   "metadata": {},
   "outputs": [],
   "source": [
    "class ImageClassifier:\n",
    "    def __init__(self):\n",
    "        self.all_skus = {}\n",
    "        self.model = model_util.DeepModel()\n",
    "        self.predict_time = 0\n",
    "        self.time_search = 0\n",
    "        self.count_frame = 0\n",
    "        self.top_k = 5\n",
    "\n",
    "    def extract_features_from_img(self, cur_img):\n",
    "        \"\"\"Судя по названию эта функция извлекает фичи из тестового изображения\"\"\"\n",
    "        cur_img = cv2.resize(cur_img, (224, 224))\n",
    "        img = preprocess_input(cur_img)\n",
    "        img = np.expand_dims(img, axis=0)\n",
    "        feature = self.model.extract_feature(img)\n",
    "        return feature\n",
    "\n",
    "    def predict(self, img):\n",
    "        self.count_frame += 1\n",
    "        before_time = time.time()\n",
    "        target_features = self.extract_features_from_img(img)\n",
    "        self.predict_time += time.time() - before_time\n",
    "        max_distance = 0\n",
    "        result_dish = 0\n",
    "\n",
    "        for dish, features_all in self.all_skus.items():\n",
    "            for features in features_all:\n",
    "                cur_distance = self.model.cosine_distance(target_features, features)\n",
    "                cur_distance = cur_distance[0][0]\n",
    "                if cur_distance > max_distance:\n",
    "                    max_distance = cur_distance\n",
    "                    result_dish = dish\n",
    "\n",
    "        return result_dish, max_distance\n",
    "\n",
    "    def add_img(self, img_path, id_img):\n",
    "        img = cv2.imread(img_path)\n",
    "        cur_img = img\n",
    "        feature = self.extract_features_from_img(cur_img)\n",
    "        if id_img not in self.all_skus:\n",
    "            self.all_skus[id_img] = []\n",
    "        self.all_skus[id_img].append(feature)\n",
    "        return feature\n",
    "\n",
    "    def remove_by_id(self, id_img):\n",
    "        if id_img in self.all_skus:\n",
    "            self.all_skus.pop(id_img)\n",
    "\n",
    "    def remove_all(self):\n",
    "        self.all_skus.clear()\n",
    "\n",
    "    def add_img_from_pickle(self, id_img, pickle_path):\n",
    "        res = pickle.load(open(pickle_path, 'rb'))\n",
    "        self.all_skus[id_img] = res\n",
    "\n",
    "    def get_additional_info(self):\n",
    "        json_res = {}\n",
    "        json_res[\"Extract features, time\"] = self.predict_time\n",
    "        json_res[\"Find nearest, time\"] = self.time_search\n",
    "        json_res[\"Count frame\"] = self.count_frame\n",
    "        json_res[\"RPS\"] = self.count_frame / (self.predict_time + self.time_search)\n",
    "        return json_res"
   ]
  }
 ],
 "metadata": {
  "kernelspec": {
   "display_name": "env",
   "language": "python",
   "name": "env"
  },
  "language_info": {
   "codemirror_mode": {
    "name": "ipython",
    "version": 3
   },
   "file_extension": ".py",
   "mimetype": "text/x-python",
   "name": "python",
   "nbconvert_exporter": "python",
   "pygments_lexer": "ipython3",
   "version": "3.10.2"
  }
 },
 "nbformat": 4,
 "nbformat_minor": 5
}
